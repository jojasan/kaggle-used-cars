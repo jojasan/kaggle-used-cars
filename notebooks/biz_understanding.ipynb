{
 "cells": [
  {
   "cell_type": "markdown",
   "metadata": {},
   "source": [
    "# 🚗 Predicting Used Car Prices\n",
    "\n",
    "### 🔍 **Problem Statement**\n",
    "Determine the factors that most strongly influence the sale price of a used car and provide price recommendations that maximize dealership profit while staying competitive in the local market.\n",
    "\n",
    "---\n",
    "\n",
    "### 💼 **Business Objective**\n",
    "**Maximize gross profit and inventory turnover** by pricing each vehicle within a data-driven range that reflects what local buyers are willing to pay.\n",
    "\n",
    "---\n",
    "\n",
    "### 📊 **Analytics Objective**\n",
    "Develop a **pricing-assist notebook** that delivers:  \n",
    "1. **Best-guess sale price** (point estimate).  \n",
    "2. **90 % prediction interval** (lower & upper bounds).  \n",
    "3. **Feature-driven explanations** of what drives each estimate.\n",
    "\n",
    "---\n",
    "\n",
    "### ✅ **Success Criteria**\n",
    "**Mean Absolute Error (MAE) ≤ \\$1200** on a hold-out test set.\n",
    "\n",
    "> **Why \\$1200?**  \n",
    "> - Typical gross profit per used car in the U.S. is **\\$1200 – \\$2300**.  \n",
    "> - Keeping MAE at \\$1200 caps pricing error so it never wipes out an average unit’s profit.  \n",
    "> - This threshold corresponds to roughly **5 % MAPE** on an average retail price of \\$25–26k, keeping errors within an acceptable profit band."
   ]
  }
 ],
 "metadata": {
  "language_info": {
   "name": "python"
  }
 },
 "nbformat": 4,
 "nbformat_minor": 2
}
