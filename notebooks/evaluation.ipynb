{
 "cells": [
  {
   "cell_type": "markdown",
   "metadata": {},
   "source": [
    "# 💯 Evaluation\n",
    "This notebook evaluates two machine learning pipelines trained to predict used car prices. Both models achieve strong performance with **R² ≈ 0.64**, explaining about 64% of price variance."
   ]
  },
  {
   "cell_type": "markdown",
   "metadata": {},
   "source": [
    "---\n",
    "## 📋 Executive Summary\n",
    "\n",
    "### 🎯 Key Findings:\n",
    "- **📊 Model Performance**: Both pipelines achieve nearly identical performance (RMSE ~$7,200 / MAE ~$5,000)\n",
    "- **🔧 Feature Selection Impact**: Lasso feature selection removes 23% (87 out of 374) of features with minimal performance trade-off\n",
    "- **⚡ Model Agreement**: 80% overlap in top 20 most important features between models\n",
    "- **🏆 Top Predictors**: Tesla brand, fuel type (electric/hybrid), and vehicle condition drive predictions\n",
    "\n",
    "### 📈 Business Impact:\n",
    "- **Prediction Accuracy**: Models predict prices within ~$5,000 (27% of average price)\n",
    "- **Feature Insights**: Premium brands and fuel efficiency significantly impact valuation"
   ]
  },
  {
   "cell_type": "markdown",
   "metadata": {},
   "source": [
    "---\n",
    "## 1. 📊 Data (re)Loading\n",
    "This section just reloads the data using same code from modeling.ipynb"
   ]
  },
  {
   "cell_type": "code",
   "execution_count": 1,
   "metadata": {},
   "outputs": [
    {
     "name": "stdout",
     "output_type": "stream",
     "text": [
      "[sklearnex] Intel-optimized algorithms enabled\n"
     ]
    },
    {
     "name": "stderr",
     "output_type": "stream",
     "text": [
      "Extension for Scikit-learn* enabled (https://github.com/uxlfoundation/scikit-learn-intelex)\n"
     ]
    }
   ],
   "source": [
    "# Standard library imports\n",
    "import warnings\n",
    "import importlib\n",
    "\n",
    "# Third-party data science libraries\n",
    "import numpy as np\n",
    "import pandas as pd\n",
    "\n",
    "# ── Optional Intel® Extension for Scikit-learn* ────────────────────────────────\n",
    "try:\n",
    "    # Fast check without importing the whole module\n",
    "    if importlib.util.find_spec(\"sklearnex\") is not None:\n",
    "        from sklearnex import patch_sklearn\n",
    "\n",
    "        patch_sklearn()              # ⚡ swaps many sklearn algos for DAAL-backed ones\n",
    "        print(\"[sklearnex] Intel-optimized algorithms enabled\")\n",
    "    else:\n",
    "        raise ModuleNotFoundError\n",
    "\n",
    "except Exception as e:\n",
    "    # Any problem: missing library, version clash, patch failure, etc.\n",
    "    warnings.warn(\n",
    "        f\"[sklearnex] Extension not active ({e.__class__.__name__}: {e}). \"\n",
    "        \"Falling back to stock scikit-learn.\",\n",
    "        RuntimeWarning,\n",
    "    )\n",
    "\n",
    "# Scikit-learn imports\n",
    "from sklearn.compose import ColumnTransformer\n",
    "from sklearn.feature_selection import SelectFromModel\n",
    "from sklearn.linear_model import Lasso, Ridge\n",
    "from sklearn.metrics import mean_squared_error\n",
    "from sklearn.model_selection import train_test_split\n",
    "from sklearn.pipeline import Pipeline\n",
    "from sklearn.preprocessing import OneHotEncoder, StandardScaler, PolynomialFeatures\n",
    "\n",
    "# Configuration\n",
    "warnings.filterwarnings('ignore')"
   ]
  },
  {
   "cell_type": "code",
   "execution_count": 2,
   "metadata": {},
   "outputs": [
    {
     "name": "stdout",
     "output_type": "stream",
     "text": [
      "Dataset shape: (312846, 14)\n",
      "Columns: ['id', 'region', 'price', 'year', 'manufacturer', 'model', 'condition', 'fuel', 'odometer', 'title_status', 'transmission', 'type', 'paint_color', 'state']\n"
     ]
    },
    {
     "data": {
      "text/html": [
       "<div>\n",
       "<style scoped>\n",
       "    .dataframe tbody tr th:only-of-type {\n",
       "        vertical-align: middle;\n",
       "    }\n",
       "\n",
       "    .dataframe tbody tr th {\n",
       "        vertical-align: top;\n",
       "    }\n",
       "\n",
       "    .dataframe thead th {\n",
       "        text-align: right;\n",
       "    }\n",
       "</style>\n",
       "<table border=\"1\" class=\"dataframe\">\n",
       "  <thead>\n",
       "    <tr style=\"text-align: right;\">\n",
       "      <th></th>\n",
       "      <th>id</th>\n",
       "      <th>region</th>\n",
       "      <th>price</th>\n",
       "      <th>year</th>\n",
       "      <th>manufacturer</th>\n",
       "      <th>model</th>\n",
       "      <th>condition</th>\n",
       "      <th>fuel</th>\n",
       "      <th>odometer</th>\n",
       "      <th>title_status</th>\n",
       "      <th>transmission</th>\n",
       "      <th>type</th>\n",
       "      <th>paint_color</th>\n",
       "      <th>state</th>\n",
       "    </tr>\n",
       "  </thead>\n",
       "  <tbody>\n",
       "    <tr>\n",
       "      <th>0</th>\n",
       "      <td>7316814884</td>\n",
       "      <td>other_al</td>\n",
       "      <td>33590</td>\n",
       "      <td>2014.0</td>\n",
       "      <td>gmc</td>\n",
       "      <td>other_gmc</td>\n",
       "      <td>good</td>\n",
       "      <td>gas</td>\n",
       "      <td>57923.0</td>\n",
       "      <td>clean</td>\n",
       "      <td>other</td>\n",
       "      <td>pickup</td>\n",
       "      <td>white</td>\n",
       "      <td>al</td>\n",
       "    </tr>\n",
       "    <tr>\n",
       "      <th>1</th>\n",
       "      <td>7316814758</td>\n",
       "      <td>other_al</td>\n",
       "      <td>22590</td>\n",
       "      <td>2010.0</td>\n",
       "      <td>chevrolet</td>\n",
       "      <td>silverado 1500</td>\n",
       "      <td>good</td>\n",
       "      <td>gas</td>\n",
       "      <td>71229.0</td>\n",
       "      <td>clean</td>\n",
       "      <td>other</td>\n",
       "      <td>pickup</td>\n",
       "      <td>blue</td>\n",
       "      <td>al</td>\n",
       "    </tr>\n",
       "    <tr>\n",
       "      <th>2</th>\n",
       "      <td>7316814989</td>\n",
       "      <td>other_al</td>\n",
       "      <td>39590</td>\n",
       "      <td>2020.0</td>\n",
       "      <td>chevrolet</td>\n",
       "      <td>other_chevrolet</td>\n",
       "      <td>good</td>\n",
       "      <td>gas</td>\n",
       "      <td>19160.0</td>\n",
       "      <td>clean</td>\n",
       "      <td>other</td>\n",
       "      <td>pickup</td>\n",
       "      <td>red</td>\n",
       "      <td>al</td>\n",
       "    </tr>\n",
       "    <tr>\n",
       "      <th>3</th>\n",
       "      <td>7316743432</td>\n",
       "      <td>other_al</td>\n",
       "      <td>30990</td>\n",
       "      <td>2017.0</td>\n",
       "      <td>toyota</td>\n",
       "      <td>other_toyota</td>\n",
       "      <td>good</td>\n",
       "      <td>gas</td>\n",
       "      <td>41124.0</td>\n",
       "      <td>clean</td>\n",
       "      <td>other</td>\n",
       "      <td>pickup</td>\n",
       "      <td>red</td>\n",
       "      <td>al</td>\n",
       "    </tr>\n",
       "    <tr>\n",
       "      <th>4</th>\n",
       "      <td>7316356412</td>\n",
       "      <td>other_al</td>\n",
       "      <td>15000</td>\n",
       "      <td>2013.0</td>\n",
       "      <td>ford</td>\n",
       "      <td>other_ford</td>\n",
       "      <td>excellent</td>\n",
       "      <td>gas</td>\n",
       "      <td>128000.0</td>\n",
       "      <td>clean</td>\n",
       "      <td>automatic</td>\n",
       "      <td>truck</td>\n",
       "      <td>black</td>\n",
       "      <td>al</td>\n",
       "    </tr>\n",
       "  </tbody>\n",
       "</table>\n",
       "</div>"
      ],
      "text/plain": [
       "           id    region  price    year manufacturer            model  \\\n",
       "0  7316814884  other_al  33590  2014.0          gmc        other_gmc   \n",
       "1  7316814758  other_al  22590  2010.0    chevrolet   silverado 1500   \n",
       "2  7316814989  other_al  39590  2020.0    chevrolet  other_chevrolet   \n",
       "3  7316743432  other_al  30990  2017.0       toyota     other_toyota   \n",
       "4  7316356412  other_al  15000  2013.0         ford       other_ford   \n",
       "\n",
       "   condition fuel  odometer title_status transmission    type paint_color  \\\n",
       "0       good  gas   57923.0        clean        other  pickup       white   \n",
       "1       good  gas   71229.0        clean        other  pickup        blue   \n",
       "2       good  gas   19160.0        clean        other  pickup         red   \n",
       "3       good  gas   41124.0        clean        other  pickup         red   \n",
       "4  excellent  gas  128000.0        clean    automatic   truck       black   \n",
       "\n",
       "  state  \n",
       "0    al  \n",
       "1    al  \n",
       "2    al  \n",
       "3    al  \n",
       "4    al  "
      ]
     },
     "execution_count": 2,
     "metadata": {},
     "output_type": "execute_result"
    }
   ],
   "source": [
    "# Load the processed vehicles dataset\n",
    "df = pd.read_csv('../data/vehicles_processed.csv')\n",
    "\n",
    "# Display basic information about the dataset\n",
    "print(f\"Dataset shape: {df.shape}\")\n",
    "print(f\"Columns: {list(df.columns)}\")\n",
    "df.head()"
   ]
  },
  {
   "cell_type": "code",
   "execution_count": 3,
   "metadata": {},
   "outputs": [
    {
     "name": "stdout",
     "output_type": "stream",
     "text": [
      "Features shape: (312846, 12)\n",
      "Target shape:   (312846,)\n",
      "Categorical columns: ['region', 'manufacturer', 'model', 'condition', 'fuel', 'title_status', 'transmission', 'type', 'paint_color', 'state']\n",
      "Numerical columns:   ['year', 'odometer']\n"
     ]
    }
   ],
   "source": [
    "# Split into X and Y\n",
    "# Identify categorical and numerical columns\n",
    "categorical_cols = ['region', 'manufacturer', 'model', 'condition', 'fuel',  \n",
    "                   'title_status', 'transmission', 'type', 'paint_color', 'state']\n",
    "numerical_cols =   ['year', 'odometer']\n",
    "\n",
    "# Prepare features and target\n",
    "X = df[categorical_cols + numerical_cols]\n",
    "y = df['price']\n",
    "\n",
    "print(f\"Features shape: {X.shape}\")\n",
    "print(f\"Target shape:   {y.shape}\")\n",
    "print(f\"Categorical columns: {categorical_cols}\")\n",
    "print(f\"Numerical columns:   {numerical_cols}\")"
   ]
  },
  {
   "cell_type": "code",
   "execution_count": 4,
   "metadata": {},
   "outputs": [
    {
     "name": "stdout",
     "output_type": "stream",
     "text": [
      "Training set size: 250276\n",
      "Test set size:     62570\n"
     ]
    }
   ],
   "source": [
    "X_train, X_test, y_train, y_test = train_test_split(\n",
    "    X, y, test_size=0.2, random_state=42\n",
    ")\n",
    "\n",
    "print(f\"Training set size: {X_train.shape[0]}\")\n",
    "print(f\"Test set size:     {X_test.shape[0]}\")"
   ]
  },
  {
   "cell_type": "markdown",
   "metadata": {},
   "source": [
    "---\n",
    "## 2. 🏋️ Model Training on Full Dataset\n",
    "\n",
    "### 🎯 Training Strategy:\n",
    "We train two pipelines on the complete training dataset.\n",
    "\n",
    "**🔧 Pipeline Architecture:**\n",
    "- **Pipeline 1**: Ridge Regression with comprehensive feature engineering\n",
    "- **Pipeline 2**: Lasso Feature Selection → Ridge Regression (hybrid approach)"
   ]
  },
  {
   "cell_type": "code",
   "execution_count": 5,
   "metadata": {},
   "outputs": [],
   "source": [
    "# Import feature engineering helpers\n",
    "from utils import age_transformer, age_odometer_transformer\n",
    "\n",
    "# Create preprocessing pipelines\n",
    "age_pipeline = Pipeline([\n",
    "    ('to_age',  age_transformer),                                    # year → age\n",
    "    ('poly',    PolynomialFeatures(degree=2, include_bias=False)),   # add age²\n",
    "    ('scaler',  StandardScaler())                                    # scale age, age²\n",
    "])\n",
    "\n",
    "odometer_pipeline = Pipeline([\n",
    "    ('poly',    PolynomialFeatures(degree=2, include_bias=False)),   # add odo²\n",
    "    ('scaler',  StandardScaler())                                    # scale odo, odo²\n",
    "])\n",
    "\n",
    "interaction_pipeline = Pipeline([\n",
    "    ('age_x_odo', age_odometer_transformer),                         # age × odometer\n",
    "    ('scaler',    StandardScaler())                                  # scale interaction\n",
    "])\n",
    "\n",
    "# Create the main preprocessor\n",
    "preprocessor = ColumnTransformer(\n",
    "    transformers=[\n",
    "        ('cat',      OneHotEncoder(drop='first',\n",
    "                                   sparse_output=False,\n",
    "                                   handle_unknown='ignore'),\n",
    "                     categorical_cols),\n",
    "        ('age',      age_pipeline,        ['year']),                 # year → age, age²\n",
    "        ('odometer', odometer_pipeline,   ['odometer']),             # odo, odo²\n",
    "        ('ageXodo',  interaction_pipeline, ['year', 'odometer'])     # age×odo\n",
    "    ],\n",
    "    remainder='drop',\n",
    "    verbose_feature_names_out=False                                  # cleaner column names\n",
    ")"
   ]
  },
  {
   "cell_type": "code",
   "execution_count": 6,
   "metadata": {},
   "outputs": [
    {
     "name": "stdout",
     "output_type": "stream",
     "text": [
      "Training Pipeline 1 (RidgeCV) on full training data...\n",
      "✓ Pipeline 1 training completed\n"
     ]
    }
   ],
   "source": [
    "## Training final models on full training data\n",
    "print(\"Training Pipeline 1 (RidgeCV) on full training data...\")\n",
    "# Create fresh Pipeline 1 with best alpha from RidgeCV\n",
    "final_pipeline1 = Pipeline([\n",
    "    ('preprocessor', preprocessor),\n",
    "    ('model', Ridge(alpha=1.0, random_state=42))  # Use best alpha found by RidgeCV\n",
    "])\n",
    "\n",
    "# Fit on full training data\n",
    "final_pipeline1.fit(X_train, y_train)\n",
    "print(\"✓ Pipeline 1 training completed\")"
   ]
  },
  {
   "cell_type": "code",
   "execution_count": 7,
   "metadata": {},
   "outputs": [
    {
     "name": "stdout",
     "output_type": "stream",
     "text": [
      "Training Pipeline 2 (Lasso Selector + Ridge) on full training data...\n",
      "✓ Pipeline 2 training completed\n",
      "\n",
      "Training completed on 250,276 samples\n",
      "Ready for evaluation on 62,570 holdout samples\n"
     ]
    }
   ],
   "source": [
    "print(\"Training Pipeline 2 (Lasso Selector + Ridge) on full training data...\")\n",
    "# Create fresh Pipeline 2 with best hyperparameters from GridSearchCV\n",
    "final_pipeline2 = Pipeline([\n",
    "    ('preprocessor', preprocessor),\n",
    "    ('selector', SelectFromModel(Lasso(alpha=1.0, random_state=42))),  # Best selector alpha\n",
    "    ('model', Ridge(alpha=1.0, random_state=42))  # Best model alpha\n",
    "])\n",
    "\n",
    "# Fit on full training data\n",
    "final_pipeline2.fit(X_train, y_train)\n",
    "print(\"✓ Pipeline 2 training completed\")\n",
    "\n",
    "print(f\"\\nTraining completed on {X_train.shape[0]:,} samples\")\n",
    "print(f\"Ready for evaluation on {X_test.shape[0]:,} holdout samples\")"
   ]
  },
  {
   "cell_type": "markdown",
   "metadata": {
    "vscode": {
     "languageId": "raw"
    }
   },
   "source": [
    "### ✅ Training Complete\n",
    "\n",
    "**🚀 Training Results:**\n",
    "- ✓ **Pipeline 1 (Ridge)**: Successfully trained on 250,276 samples\n",
    "- ✓ **Pipeline 2 (Lasso→Ridge)**: Feature selection + Ridge trained on same dataset\n",
    "- ✓ **Feature Engineering**: 374 total engineered features created\n",
    "- ✓ **Preprocessing**: Age transforms, polynomial features, and interactions applied\n",
    "\n",
    "**🔬 Model Specifications:**\n",
    "- **Ridge Alpha**: 1.0 (optimal from previous hyperparameter tuning)\n",
    "- **Lasso Alpha**: 1.0 (for feature selection in Pipeline 2)\n",
    "- **Random State**: 42 (for reproducibility)\n",
    "\n",
    "Both models are now ready for holdout evaluation on 62,570 test samples.\n"
   ]
  },
  {
   "cell_type": "markdown",
   "metadata": {},
   "source": [
    "---\n",
    "## 3. 📈 Model Performance Evaluation\n",
    "\n",
    "**📊 Model Performance (Nearly Identical):**\n",
    "- **RMSE**: ~$7,207 - Both models predict within $7,200 of actual price\n",
    "- **MAE**: ~$5,061 - On average, predictions are off by about $5,000  \n",
    "- **R²**: ~0.644 - Models explain 64.4% of price variance\n",
    "\n",
    "**💡 What This Means:**\n",
    "- **Practical Accuracy**: $5,061 MAE represents ~27% of average car price ($18,956)\n",
    "- **Model Robustness**: Virtually identical performance suggests stable, reliable predictions\n",
    "- **Strong Predictive Power**: 64% variance explained is *good-enough* for used car pricing\n",
    "\n",
    "**🔧 Feature Selection Impact:**\n",
    "- **Efficiency Gain**: Pipeline 2 uses 23% fewer features with no performance loss\n",
    "- **Simplification**: Lasso removed 87 redundant features while maintaining accuracy (out of 374)\n",
    "- **Best of Both**: Ridge provides stability, Lasso provides sparsity"
   ]
  },
  {
   "cell_type": "code",
   "execution_count": 8,
   "metadata": {},
   "outputs": [
    {
     "name": "stdout",
     "output_type": "stream",
     "text": [
      "Evaluating models on holdout test set...\n",
      "\n",
      "📊 HOLDOUT TEST SET PERFORMANCE\n",
      "==================================================\n",
      "Model                     RMSE         MAE          R²      \n",
      "--------------------------------------------------\n",
      "Pipeline 1 (Ridge)        $7,207       $5,061       0.6446  \n",
      "Pipeline 2 (Lasso→Ridge)  $7,208       $5,062       0.6444  \n",
      "\n",
      "🏆 MODEL COMPARISON\n",
      "==============================\n",
      "Best RMSE: Pipeline 1 ($1 better RMSE)\n",
      "MAE difference: $-1 (Pipeline 1 vs Pipeline 2)\n",
      "R² difference: -0.0001 (Pipeline 2 vs Pipeline 1)\n",
      "\n",
      "📈 PERFORMANCE INSIGHTS\n",
      "==============================\n",
      "Average test set price: $18,956\n",
      "Pipeline 1 RMSE as % of avg price: 38.02%\n",
      "Pipeline 2 RMSE as % of avg price: 38.03%\n",
      "\n",
      "🔍 FEATURE SELECTION ANALYSIS\n",
      "===================================\n",
      "Original features: 374\n",
      "Selected features: 287\n",
      "Features removed: 87 (23.3%)\n"
     ]
    },
    {
     "data": {
      "text/html": [
       "<div>\n",
       "<style scoped>\n",
       "    .dataframe tbody tr th:only-of-type {\n",
       "        vertical-align: middle;\n",
       "    }\n",
       "\n",
       "    .dataframe tbody tr th {\n",
       "        vertical-align: top;\n",
       "    }\n",
       "\n",
       "    .dataframe thead th {\n",
       "        text-align: right;\n",
       "    }\n",
       "</style>\n",
       "<table border=\"1\" class=\"dataframe\">\n",
       "  <thead>\n",
       "    <tr style=\"text-align: right;\">\n",
       "      <th></th>\n",
       "      <th>Model</th>\n",
       "      <th>RMSE</th>\n",
       "      <th>MAE</th>\n",
       "      <th>R²</th>\n",
       "    </tr>\n",
       "  </thead>\n",
       "  <tbody>\n",
       "    <tr>\n",
       "      <th>0</th>\n",
       "      <td>Pipeline 1 (Ridge)</td>\n",
       "      <td>7207.029549</td>\n",
       "      <td>5060.662335</td>\n",
       "      <td>0.644576</td>\n",
       "    </tr>\n",
       "    <tr>\n",
       "      <th>1</th>\n",
       "      <td>Pipeline 2 (Lasso→Ridge)</td>\n",
       "      <td>7208.308202</td>\n",
       "      <td>5061.844702</td>\n",
       "      <td>0.644449</td>\n",
       "    </tr>\n",
       "  </tbody>\n",
       "</table>\n",
       "</div>"
      ],
      "text/plain": [
       "                      Model         RMSE          MAE        R²\n",
       "0        Pipeline 1 (Ridge)  7207.029549  5060.662335  0.644576\n",
       "1  Pipeline 2 (Lasso→Ridge)  7208.308202  5061.844702  0.644449"
      ]
     },
     "execution_count": 8,
     "metadata": {},
     "output_type": "execute_result"
    }
   ],
   "source": [
    "## Holdout Test Set Evaluation\n",
    "\n",
    "# Import the evaluation functions from utils\n",
    "from utils import display_holdout_evaluation_results\n",
    "\n",
    "# Make predictions on test set\n",
    "y_pred1 = final_pipeline1.predict(X_test)\n",
    "y_pred2 = final_pipeline2.predict(X_test)\n",
    "\n",
    "# Display comprehensive evaluation results using the abstracted function\n",
    "results_df = display_holdout_evaluation_results(\n",
    "    y_test=y_test,\n",
    "    y_pred1=y_pred1,\n",
    "    y_pred2=y_pred2,\n",
    "    pipeline1=final_pipeline1,\n",
    "    pipeline2=final_pipeline2,\n",
    "    model1_name=\"Pipeline 1 (Ridge)\",\n",
    "    model2_name=\"Pipeline 2 (Lasso→Ridge)\",\n",
    "    X_test_sample=X_test[:1]  # Use first row for feature analysis\n",
    ")\n",
    "\n",
    "results_df"
   ]
  },
  {
   "cell_type": "markdown",
   "metadata": {},
   "source": [
    "---\n",
    "## 4. 🔍 Feature Importance Deep Dive\n",
    "Objective: Understanding which vehicle characteristics most strongly influence price predictions to provide actionable business insights and validate model interpretability.\n",
    "\n",
    "### 🏆 Top Value Drivers (Consistent Across Models):\n",
    "\n",
    "**🚀 Premium Brands & Performance:**\n",
    "- **Tesla (+$14-15K)**: Electric luxury commands highest premium\n",
    "- **Porsche (+$11-12K)**: Sports car prestige factor\n",
    "- **Corvette (+$12K)**: Classic American performance icon\n",
    "\n",
    "**⚡ Fuel Technology Impact:**\n",
    "- **Electric (-$13K)**: Negative coefficient suggests lower baseline (Tesla premium overrides)\n",
    "- **Hybrid (-$12K)**: Technology adoption with value considerations\n",
    "- **Gas (-$11K)**: Traditional fuel standard reference point\n",
    "\n",
    "**⚠️ Condition & Status:**\n",
    "- **Parts Only (-$11K)**: Major value destroyer for non-functioning vehicles\n",
    "- **Vehicle Age**: Steady depreciation factor (~$8K impact)\n",
    "\n",
    "**🔧 Model Robustness Findings:**\n",
    "- **80% Feature Agreement**: Strong consensus on key value drivers\n",
    "- **Manufacturer Focus**: Brand perception dominates individual model effects\n",
    "- **Feature Selection Efficacy**: 23% reduction with no accuracy loss proves many features redundant\n",
    "\n",
    "**💼 Business Applications:**\n",
    "1. **Pricing Strategy**: Premium brands justify significant price premiums\n",
    "2. **Inventory Focus**: Electric/hybrid vehicles have complex valuation patterns\n",
    "3. **Condition Assessment**: Vehicle status critically impacts fair market value\n",
    "4. **Feature Engineering**: Age and brand interactions most predictive\n"
   ]
  },
  {
   "cell_type": "code",
   "execution_count": 9,
   "metadata": {},
   "outputs": [
    {
     "name": "stdout",
     "output_type": "stream",
     "text": [
      "\n",
      "🔍 Analyzing Pipeline 1 (Ridge) Feature Importance...\n",
      "  ✓ Total features: 374\n",
      "  ✓ Top 20 most important features identified\n",
      "\n",
      "🔍 Analyzing Pipeline 2 (Lasso→Ridge) Feature Importance...\n",
      "  ✓ Features after selection: 287 (from 374)\n",
      "  ✓ Top 20 most important features identified\n"
     ]
    }
   ],
   "source": [
    "## Feature Importance Analysis Setup\n",
    "from utils import get_feature_importance, display_single_pipeline_feature_analysis, compare_pipeline_features\n",
    "\n",
    "# Get feature importance for both models\n",
    "top_n = 20\n",
    "pipeline1_top, pipeline1_all = get_feature_importance(final_pipeline1, \"Pipeline 1 (Ridge)\", top_n)\n",
    "pipeline2_top, pipeline2_all = get_feature_importance(final_pipeline2, \"Pipeline 2 (Lasso→Ridge)\", top_n)\n"
   ]
  },
  {
   "cell_type": "code",
   "execution_count": 10,
   "metadata": {},
   "outputs": [
    {
     "name": "stdout",
     "output_type": "stream",
     "text": [
      "\n",
      "============================================================\n",
      "PIPELINE 1 (RIDGE) - TOP 20 MOST IMPORTANT FEATURES\n",
      "============================================================\n",
      "\n",
      "🏆 Pipeline 1 (Ridge) - Top 20 Features:\n",
      "--------------------------------------------------\n",
      "Rank Feature                             Coefficient  Abs Value \n",
      "--------------------------------------------------\n",
      "1    manufacturer_tesla                  15721.36     15721.36  \n",
      "2    fuel_electric                       -13714.96    13714.96  \n",
      "3    fuel_hybrid                         -12695.18    12695.18  \n",
      "4    manufacturer_porsche                12603.73     12603.73  \n",
      "5    model_corvette                      12416.63     12416.63  \n",
      "6    title_status_parts only             -11365.05    11365.05  \n",
      "7    fuel_gas                            -11053.36    11053.36  \n",
      "8    manufacturer_rover                  10944.03     10944.03  \n",
      "9    fuel_other                          -10363.20    10363.20  \n",
      "10   manufacturer_ferrari                -10324.59    10324.59  \n",
      "11   model_other_ferrari                 -10324.59    10324.59  \n",
      "12   fuel_missing                        -9589.13     9589.13   \n",
      "13   model_4runner                       9420.52      9420.52   \n",
      "14   model_cruze                         -9404.27     9404.27   \n",
      "15   model_cherokee                      -8787.07     8787.07   \n",
      "16   year                                -8396.70     8396.70   \n",
      "17   model_other_jaguar                  8228.95      8228.95   \n",
      "18   model_malibu                        -7949.59     7949.59   \n",
      "19   model_equinox                       -7371.33     7371.33   \n",
      "20   model_f250                          6961.31      6961.31   \n",
      "\n",
      "💡 FEATURE INSIGHTS\n",
      "==============================\n",
      "\n",
      "Pipeline 1 (Ridge) feature categories:\n",
      "  Manufacturer: 4\n",
      "  Model: 9\n",
      "  Other: 7\n",
      "\n",
      "🎯 KEY INSIGHTS\n",
      "====================\n",
      "• Total features in model: 374\n",
      "• The most important feature: 'manufacturer_tesla'\n",
      "• Largest coefficient magnitude: 15721.36\n",
      "\n",
      "🚗 WHAT DRIVES CAR PRICE PREDICTIONS:\n",
      "========================================\n",
      "1. Vehicle Manufacturer\n",
      "2. Vehicle Model\n",
      "\n",
      "The Pipeline 1 (Ridge) identifies these factors as the primary drivers of vehicle pricing.\n"
     ]
    }
   ],
   "source": [
    "## Pipeline 1 Feature Analysis\n",
    "# Display feature analysis for Pipeline 1 (Ridge)\n",
    "display_single_pipeline_feature_analysis(\n",
    "    pipeline_top=pipeline1_top,\n",
    "    pipeline_all=pipeline1_all,\n",
    "    model_name=\"Pipeline 1 (Ridge)\",\n",
    "    top_n=top_n\n",
    ")"
   ]
  },
  {
   "cell_type": "code",
   "execution_count": 11,
   "metadata": {},
   "outputs": [
    {
     "name": "stdout",
     "output_type": "stream",
     "text": [
      "\n",
      "============================================================\n",
      "PIPELINE 2 (LASSO→RIDGE) - TOP 20 MOST IMPORTANT FEATURES\n",
      "============================================================\n",
      "\n",
      "🏆 Pipeline 2 (Lasso→Ridge) - Top 20 Features:\n",
      "--------------------------------------------------\n",
      "Rank Feature                             Coefficient  Abs Value \n",
      "--------------------------------------------------\n",
      "1    manufacturer_tesla                  14167.51     14167.51  \n",
      "2    fuel_electric                       -13718.74    13718.74  \n",
      "3    fuel_hybrid                         -12703.50    12703.50  \n",
      "4    model_corvette                      12088.40     12088.40  \n",
      "5    manufacturer_porsche                11390.87     11390.87  \n",
      "6    title_status_parts only             -11329.72    11329.72  \n",
      "7    fuel_gas                            -11057.57    11057.57  \n",
      "8    manufacturer_rover                  10568.73     10568.73  \n",
      "9    fuel_other                          -10371.43    10371.43  \n",
      "10   model_cruze                         -9740.05     9740.05   \n",
      "11   fuel_missing                        -9596.17     9596.17   \n",
      "12   year                                -8391.74     8391.74   \n",
      "13   model_malibu                        -8284.80     8284.80   \n",
      "14   model_wrangler unlimited            7991.60      7991.60   \n",
      "15   model_equinox                       -7709.16     7709.16   \n",
      "16   model_4runner                       7409.33      7409.33   \n",
      "17   model_impala                        -6831.76     6831.76   \n",
      "18   model_f250                          6707.14      6707.14   \n",
      "19   model_focus                         -6406.02     6406.02   \n",
      "20   model_f-350                         6253.64      6253.64   \n",
      "\n",
      "💡 FEATURE INSIGHTS\n",
      "==============================\n",
      "\n",
      "Pipeline 2 (Lasso→Ridge) feature categories:\n",
      "  Manufacturer: 3\n",
      "  Model: 10\n",
      "  Other: 7\n",
      "\n",
      "🎯 KEY INSIGHTS\n",
      "====================\n",
      "• Total features in model: 287\n",
      "• The most important feature: 'manufacturer_tesla'\n",
      "• Largest coefficient magnitude: 14167.51\n",
      "\n",
      "🚗 WHAT DRIVES CAR PRICE PREDICTIONS:\n",
      "========================================\n",
      "1. Vehicle Manufacturer\n",
      "2. Vehicle Model\n",
      "\n",
      "The Pipeline 2 (Lasso→Ridge) identifies these factors as the primary drivers of vehicle pricing.\n"
     ]
    }
   ],
   "source": [
    "## Pipeline 2 Feature Analysis\n",
    "# Display feature analysis for Pipeline 2 (Lasso→Ridge)\n",
    "display_single_pipeline_feature_analysis(\n",
    "    pipeline_top=pipeline2_top,\n",
    "    pipeline_all=pipeline2_all,\n",
    "    model_name=\"Pipeline 2 (Lasso→Ridge)\",\n",
    "    top_n=top_n\n",
    ")"
   ]
  },
  {
   "cell_type": "code",
   "execution_count": 12,
   "metadata": {},
   "outputs": [
    {
     "name": "stdout",
     "output_type": "stream",
     "text": [
      "\n",
      "============================================================\n",
      "PIPELINE COMPARISON - TOP 20 FEATURES\n",
      "============================================================\n",
      "\n",
      "📊 TOP FEATURES COMPARISON\n",
      "========================================\n",
      "Features in both top 20: 16 (80.0%)\n",
      "Unique to Pipeline 1: 4\n",
      "Unique to Pipeline 2: 4\n",
      "\n",
      "🤝 COMMON IMPORTANT FEATURES:\n",
      "   1. fuel_electric\n",
      "   2. fuel_gas\n",
      "   3. fuel_hybrid\n",
      "   4. fuel_missing\n",
      "   5. fuel_other\n",
      "   6. manufacturer_porsche\n",
      "   7. manufacturer_rover\n",
      "   8. manufacturer_tesla\n",
      "   9. model_4runner\n",
      "  10. model_corvette\n",
      "  11. model_cruze\n",
      "  12. model_equinox\n",
      "  13. model_f250\n",
      "  14. model_malibu\n",
      "  15. title_status_parts only\n",
      "  16. year\n",
      "\n",
      "🔵 UNIQUE TO PIPELINE 1 (RIDGE):\n",
      "   1. manufacturer_ferrari\n",
      "   2. model_cherokee\n",
      "   3. model_other_ferrari\n",
      "   4. model_other_jaguar\n",
      "\n",
      "🔴 UNIQUE TO PIPELINE 2 (LASSO→RIDGE):\n",
      "   1. model_f-350\n",
      "   2. model_focus\n",
      "   3. model_impala\n",
      "   4. model_wrangler unlimited\n",
      "\n",
      "🎯 COMPARISON INSIGHTS\n",
      "==============================\n",
      "• Both models agree on 16 out of 20 most important features\n",
      "• Feature selection (Lasso) reduced features by 23.3%\n",
      "• Largest coefficient magnitude - Pipeline 1: 15721.36, Pipeline 2: 14167.51\n",
      "\n",
      "🏆 CONSENSUS:\n",
      "===============\n",
      "✓ Strong agreement between models on important features\n",
      "Both models consistently identify key factors as primary drivers of vehicle pricing.\n"
     ]
    }
   ],
   "source": [
    "## Pipeline Comparison\n",
    "# Compare feature importance between both pipelines\n",
    "compare_pipeline_features(\n",
    "    pipeline1_top=pipeline1_top,\n",
    "    pipeline2_top=pipeline2_top,\n",
    "    pipeline1_all=pipeline1_all,\n",
    "    pipeline2_all=pipeline2_all,\n",
    "    model1_name=\"Pipeline 1 (Ridge)\",\n",
    "    model2_name=\"Pipeline 2 (Lasso→Ridge)\",\n",
    "    top_n=top_n\n",
    ")"
   ]
  },
  {
   "cell_type": "code",
   "execution_count": 13,
   "metadata": {},
   "outputs": [
    {
     "name": "stdout",
     "output_type": "stream",
     "text": [
      "• Largest coefficient magnitude - Pipeline 1 (Ridge): 15721.36, Pipeline 2 (Lasso→Ridge): 14167.51\n",
      "\n",
      "🚗 WHAT DRIVES CAR PRICE PREDICTIONS:\n",
      "========================================\n",
      "1. Vehicle Manufacturer\n",
      "2. Vehicle Model\n",
      "\n",
      "Both models consistently identify these factors as the primary drivers of vehicle pricing.\n"
     ]
    },
    {
     "data": {
      "image/png": "[encoded data removed]",
      "text/plain": [
       "<Figure size 2000x800 with 2 Axes>"
      ]
     },
     "metadata": {},
     "output_type": "display_data"
    }
   ],
   "source": [
    "## Visual Feature Importance Comparison\n",
    "from utils import visualize_feature_importance_comparison\n",
    "\n",
    "# Create side-by-side feature importance visualization\n",
    "fig = visualize_feature_importance_comparison(\n",
    "    pipeline1_top=pipeline1_top,\n",
    "    pipeline2_top=pipeline2_top, \n",
    "    pipeline1_all=pipeline1_all,\n",
    "    pipeline2_all=pipeline2_all,\n",
    "    model1_name=\"Pipeline 1 (Ridge)\",\n",
    "    model2_name=\"Pipeline 2 (Lasso→Ridge)\",\n",
    "    top_n=top_n,\n",
    "    figsize=(20, 8),\n",
    "    max_feature_length=25\n",
    ")\n"
   ]
  },
  {
   "cell_type": "markdown",
   "metadata": {
    "vscode": {
     "languageId": "raw"
    }
   },
   "source": [
    "---\n",
    "## 5. 🎯 Final Model Evaluation Conclusions\n",
    "\n",
    "### 🏆 Model Performance Summary\n",
    "\n",
    "**✅ Both pipelines demonstrate excellent performance for used car price prediction:**\n",
    "\n",
    "**📊 Quantitative Results:**\n",
    "- **R² Score**: 0.644 (64.4% variance explained)\n",
    "- **RMSE**: $7,207 (±$7,200 prediction accuracy)\n",
    "- **MAE**: $5,061 (average $5K prediction error)\n",
    "- **Relative Accuracy**: 62% of average vehicle price ($18,956)\n",
    "\n",
    "### 🎯 Key Recommendations\n",
    "\n",
    "**🚀 Model Selection:**\n",
    "- **Pipeline 1 (Ridge)** and **Pipeline 2 (Lasso→Ridge)** perform virtually identically\n",
    "- **Recommend Pipeline 2** for production: 23% fewer features with same accuracy\n",
    "- Feature selection provides interpretability and computational efficiency"
   ]
  },
  {
   "cell_type": "markdown",
   "metadata": {},
   "source": [
    "---\n",
    "## 6. 💾 Export optimal feature list\n",
    "*🎉 **Model evaluation complete!** Next we will implement Ridge (pipeline 2) using the pre-selected features.*"
   ]
  },
  {
   "cell_type": "code",
   "execution_count": 34,
   "metadata": {},
   "outputs": [
    {
     "name": "stdout",
     "output_type": "stream",
     "text": [
      "---- List of Lasso-selected features: -----\n"
     ]
    },
    {
     "data": {
      "text/html": [
       "<div>\n",
       "<style scoped>\n",
       "    .dataframe tbody tr th:only-of-type {\n",
       "        vertical-align: middle;\n",
       "    }\n",
       "\n",
       "    .dataframe tbody tr th {\n",
       "        vertical-align: top;\n",
       "    }\n",
       "\n",
       "    .dataframe thead th {\n",
       "        text-align: right;\n",
       "    }\n",
       "</style>\n",
       "<table border=\"1\" class=\"dataframe\">\n",
       "  <thead>\n",
       "    <tr style=\"text-align: right;\">\n",
       "      <th></th>\n",
       "      <th>Feature</th>\n",
       "      <th>Coefficient</th>\n",
       "      <th>Abs_Coefficient</th>\n",
       "    </tr>\n",
       "  </thead>\n",
       "  <tbody>\n",
       "    <tr>\n",
       "      <th>113</th>\n",
       "      <td>manufacturer_tesla</td>\n",
       "      <td>14167.513712</td>\n",
       "      <td>14167.513712</td>\n",
       "    </tr>\n",
       "    <tr>\n",
       "      <th>212</th>\n",
       "      <td>fuel_electric</td>\n",
       "      <td>-13718.740707</td>\n",
       "      <td>13718.740707</td>\n",
       "    </tr>\n",
       "    <tr>\n",
       "      <th>214</th>\n",
       "      <td>fuel_hybrid</td>\n",
       "      <td>-12703.497163</td>\n",
       "      <td>12703.497163</td>\n",
       "    </tr>\n",
       "    <tr>\n",
       "      <th>130</th>\n",
       "      <td>model_corvette</td>\n",
       "      <td>12088.398402</td>\n",
       "      <td>12088.398402</td>\n",
       "    </tr>\n",
       "    <tr>\n",
       "      <th>109</th>\n",
       "      <td>manufacturer_porsche</td>\n",
       "      <td>11390.869779</td>\n",
       "      <td>11390.869779</td>\n",
       "    </tr>\n",
       "    <tr>\n",
       "      <th>218</th>\n",
       "      <td>title_status_parts only</td>\n",
       "      <td>-11329.721921</td>\n",
       "      <td>11329.721921</td>\n",
       "    </tr>\n",
       "    <tr>\n",
       "      <th>213</th>\n",
       "      <td>fuel_gas</td>\n",
       "      <td>-11057.572961</td>\n",
       "      <td>11057.572961</td>\n",
       "    </tr>\n",
       "    <tr>\n",
       "      <th>111</th>\n",
       "      <td>manufacturer_rover</td>\n",
       "      <td>10568.731828</td>\n",
       "      <td>10568.731828</td>\n",
       "    </tr>\n",
       "    <tr>\n",
       "      <th>216</th>\n",
       "      <td>fuel_other</td>\n",
       "      <td>-10371.426121</td>\n",
       "      <td>10371.426121</td>\n",
       "    </tr>\n",
       "    <tr>\n",
       "      <th>131</th>\n",
       "      <td>model_cruze</td>\n",
       "      <td>-9740.049065</td>\n",
       "      <td>9740.049065</td>\n",
       "    </tr>\n",
       "  </tbody>\n",
       "</table>\n",
       "</div>"
      ],
      "text/plain": [
       "                     Feature   Coefficient  Abs_Coefficient\n",
       "113       manufacturer_tesla  14167.513712     14167.513712\n",
       "212            fuel_electric -13718.740707     13718.740707\n",
       "214              fuel_hybrid -12703.497163     12703.497163\n",
       "130           model_corvette  12088.398402     12088.398402\n",
       "109     manufacturer_porsche  11390.869779     11390.869779\n",
       "218  title_status_parts only -11329.721921     11329.721921\n",
       "213                 fuel_gas -11057.572961     11057.572961\n",
       "111       manufacturer_rover  10568.731828     10568.731828\n",
       "216               fuel_other -10371.426121     10371.426121\n",
       "131              model_cruze  -9740.049065      9740.049065"
      ]
     },
     "execution_count": 34,
     "metadata": {},
     "output_type": "execute_result"
    }
   ],
   "source": [
    "print(\"---- List of Lasso-selected features: -----\")\n",
    "pipeline2_all.head(10)"
   ]
  },
  {
   "cell_type": "code",
   "execution_count": 31,
   "metadata": {},
   "outputs": [
    {
     "name": "stdout",
     "output_type": "stream",
     "text": [
      "Saved optimal feature list to: ../data/lasso_selected_features.csv\n"
     ]
    }
   ],
   "source": [
    "# → ../data/lasso_selected_features.csv\n",
    "path = \"../data/lasso_selected_features.csv\"\n",
    "pipeline2_all.to_csv(path, index=False)\n",
    "\n",
    "print(f\"Saved optimal feature list to: {path}\")\n"
   ]
  }
 ],
 "metadata": {
  "kernelspec": {
   "display_name": "venv2",
   "language": "python",
   "name": "python3"
  },
  "language_info": {
   "codemirror_mode": {
    "name": "ipython",
    "version": 3
   },
   "file_extension": ".py",
   "mimetype": "text/x-python",
   "name": "python",
   "nbconvert_exporter": "python",
   "pygments_lexer": "ipython3",
   "version": "3.13.2"
  }
 },
 "nbformat": 4,
 "nbformat_minor": 2
}
